{
 "cells": [
  {
   "cell_type": "markdown",
   "metadata": {},
   "source": [
    "# 反转单向和双向链表\n",
    "\n",
    "[TOC]\n",
    "\n",
    "##【题目】分别实现反转单向链表和反转双向链表的函数。\n",
    "\n",
    "##【要求】如果链表长度为N，时间复杂度要求为O（N），额外空间复杂度要求为O（1）\n",
    "\n",
    "##【难度】1星"
   ]
  },
  {
   "cell_type": "code",
   "execution_count": null,
   "metadata": {},
   "outputs": [],
   "source": [
    "public class LinkedList{\n",
    "    public static class Node{\n",
    "        int data;\n",
    "        Node next;\n",
    "        public Node (int value){\n",
    "            this.value = data;\n",
    "        }\n",
    "    }\n",
    "    \n",
    "    private Node head;\n",
    "    private Node last;\n",
    "    private int size;\n",
    "\n",
    "    /*insert the element*/\n",
    "    public void insert(int data, int index) throws Exception{\n",
    "        if(indx < 0 || index > size){\n",
    "            throw new IndexOutOfBoundsException(\"Beyond the node range!\");\n",
    "        }\n",
    "\n",
    "        Node insertData = new Node(data);\n",
    "\n",
    "        if (size == 0)\n",
    "        {\n",
    "            head = insertData;\n",
    "            last = insertData;\n",
    "        }\n",
    "        else if(index == 0){\n",
    "            insertData.next = head;\n",
    "            head = insertData;\n",
    "        }\n",
    "    }\n",
    "}\n",
    "\n",
    "LinkedList myLinkedList = new LinkedList();\n",
    "myLinkedList.insert(1, 0);\n"
   ]
  },
  {
   "cell_type": "code",
   "execution_count": null,
   "metadata": {},
   "outputs": [],
   "source": []
  }
 ],
 "metadata": {
  "kernelspec": {
   "display_name": "Java",
   "language": "java",
   "name": "java"
  },
  "language_info": {
   "codemirror_mode": "java",
   "file_extension": ".jshell",
   "mimetype": "text/x-java-source",
   "name": "Java",
   "pygments_lexer": "java",
   "version": "11.0.3+12-LTS"
  }
 },
 "nbformat": 4,
 "nbformat_minor": 4
}
