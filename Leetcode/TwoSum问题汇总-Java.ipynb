{
 "cells": [
  {
   "cell_type": "markdown",
   "metadata": {},
   "source": [
    "# TwoSum问题汇总\n",
    "\n",
    "[TOC]\n",
    "\n",
    "## 问题描述\n",
    "\n",
    "这个问题的最基本形式是这样：给你一个数组和一个整数target，可以保证数组中存在两个数的和为target，请你返回这两个数的索引。\n",
    "\n",
    "比如输入nums = [3,1,3,6],target = 6，算法应该返回数组[0,2]，因为 3 + 3 = 6。\n",
    "\n",
    "### 穷举法\n",
    "\n",
    "时间复杂度：$O(n^2)$, 空间复杂度$O(1)$"
   ]
  },
  {
   "cell_type": "code",
   "execution_count": 21,
   "metadata": {},
   "outputs": [
    {
     "name": "stdout",
     "output_type": "stream",
     "text": [
      "[0, 2]\n"
     ]
    }
   ],
   "source": [
    "public int[] twoSum(int[] nums, int target){\n",
    "    for(int i=0; i<nums.length; i++)\n",
    "        for(int j=i+1; j<nums.length; j++){\n",
    "            if(nums[j] == target - nums[i]){\n",
    "                return new int[] {i, j};\n",
    "            }\n",
    "        }\n",
    "    \n",
    "    return new int[]{-1, -1};\n",
    "}\n",
    "\n",
    "int[] nums = new int[]{3, 1, 3, 6};\n",
    "int target = 6;\n",
    "\n",
    "int[] value = twoSum(nums, target);\n",
    "System.out.println(Arrays.toString(value))"
   ]
  },
  {
   "cell_type": "markdown",
   "metadata": {},
   "source": [
    "### 使用Hash表\n",
    "\n",
    "时间复杂度：$O(n)$, 空间复杂度$O(1)$"
   ]
  },
  {
   "cell_type": "code",
   "execution_count": 26,
   "metadata": {},
   "outputs": [
    {
     "name": "stdout",
     "output_type": "stream",
     "text": [
      "[0, 2]\n"
     ]
    }
   ],
   "source": [
    "public int[] twoSumHash(int[] nums, int target){\n",
    "    int num = nums.length;\n",
    "    Map<Integer, Integer> index = new HashMap<Integer, Integer>();\n",
    "    \n",
    "    for(int i=0; i<num; i++){\n",
    "        index.put(nums[i], i);\n",
    "    }\n",
    "    \n",
    "    for(int i=0; i<num; i++){\n",
    "        int other = target - nums[i];\n",
    "        \n",
    "        if(index.containsKey(other) && index.get(other) != i){\n",
    "            return new int[] {i, index.get(other)};\n",
    "        }\n",
    "    }\n",
    "    \n",
    "    return new int[]{-1, -1};\n",
    "}\n",
    "\n",
    "int[] nums = new int[]{3, 1, 3, 6};\n",
    "int target = 6;\n",
    "\n",
    "int[] value = twoSumHash(nums, target);\n",
    "System.out.println(Arrays.toString(value))"
   ]
  }
 ],
 "metadata": {
  "kernelspec": {
   "display_name": "Java",
   "language": "java",
   "name": "java"
  },
  "language_info": {
   "codemirror_mode": "java",
   "file_extension": ".jshell",
   "mimetype": "text/x-java-source",
   "name": "Java",
   "pygments_lexer": "java",
   "version": "11.0.3+12-LTS"
  }
 },
 "nbformat": 4,
 "nbformat_minor": 4
}
