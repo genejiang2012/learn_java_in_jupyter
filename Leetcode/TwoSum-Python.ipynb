{
 "cells": [
  {
   "cell_type": "code",
   "execution_count": 6,
   "metadata": {},
   "outputs": [
    {
     "data": {
      "text/plain": [
       "(0, 3)"
      ]
     },
     "execution_count": 6,
     "metadata": {},
     "output_type": "execute_result"
    }
   ],
   "source": [
    "class Solution:\n",
    "    def twoSum(self, nums:list, target:int):\n",
    "        hash_table ={}\n",
    "        \n",
    "        for index, value in enumerate(nums):\n",
    "            if target - value in hash_table:\n",
    "                return (hash_table[target - value], value)\n",
    "            \n",
    "            hash_table[value] = index\n",
    "\n",
    "my_solution = Solution()\n",
    "\n",
    "res = my_solution.twoSum([3, 1, 3, 0], 6)\n",
    "res"
   ]
  }
 ],
 "metadata": {
  "kernelspec": {
   "display_name": "Python 3",
   "language": "python",
   "name": "python3"
  },
  "language_info": {
   "codemirror_mode": {
    "name": "ipython",
    "version": 3
   },
   "file_extension": ".py",
   "mimetype": "text/x-python",
   "name": "python",
   "nbconvert_exporter": "python",
   "pygments_lexer": "ipython3",
   "version": "3.6.5"
  }
 },
 "nbformat": 4,
 "nbformat_minor": 4
}
