{
 "cells": [
  {
   "cell_type": "markdown",
   "metadata": {},
   "source": []
  },
  {
   "cell_type": "code",
   "execution_count": 5,
   "metadata": {},
   "outputs": [],
   "source": [
    "public class Node{\n",
    "    public int data;\n",
    "    public Node next;\n",
    "    \n",
    "    public Node(int value){\n",
    "        this.data = value;\n",
    "    } \n",
    "}\n",
    "\n",
    "public class SingleLinkedList{\n",
    "    private Node head = new Node(data);\n",
    "    \n",
    "    /*add one node at the end of the list*/\n",
    "    public void add(Node node){\n",
    "        Node temp = head;\n",
    "        \n",
    "        while(true){\n",
    "            if(temp.next == null){\n",
    "                break;\n",
    "            }\n",
    "            \n",
    "            temp = temp.next;\n",
    "        }\n",
    "        temp.next = node;\n",
    "    }\n",
    "}"
   ]
  }
 ],
 "metadata": {
  "kernelspec": {
   "display_name": "Java",
   "language": "java",
   "name": "java"
  },
  "language_info": {
   "codemirror_mode": "java",
   "file_extension": ".jshell",
   "mimetype": "text/x-java-source",
   "name": "Java",
   "pygments_lexer": "java",
   "version": "11.0.3+12-LTS"
  }
 },
 "nbformat": 4,
 "nbformat_minor": 4
}
