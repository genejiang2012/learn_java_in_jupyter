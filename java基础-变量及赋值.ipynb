{
 "cells": [
  {
   "cell_type": "code",
   "execution_count": 4,
   "metadata": {},
   "outputs": [
    {
     "name": "stdout",
     "output_type": "stream",
     "text": [
      "Input your name: sohu\n",
      "Input your age: 22\n",
      "Hi, sohu, you are 22\n"
     ]
    },
    {
     "data": {
      "text/plain": [
       "java.io.PrintStream@5eb8abf8"
      ]
     },
     "execution_count": 4,
     "metadata": {},
     "output_type": "execute_result"
    }
   ],
   "source": [
    "import java.util.Scanner;\n",
    "\n",
    "Scanner scanner = new Scanner(System.in); // 创建Scanner对象\n",
    "System.out.print(\"Input your name: \"); // 打印提示\n",
    "String name = scanner.nextLine(); // 读取一行输入并获取字符串\n",
    "System.out.print(\"Input your age: \"); // 打印提示\n",
    "int age = scanner.nextInt(); // 读取一行输入并获取整数\n",
    "System.out.printf(\"Hi, %s, you are %d\\n\", name, age); // 格式化输出"
   ]
  },
  {
   "cell_type": "code",
   "execution_count": null,
   "metadata": {},
   "outputs": [],
   "source": []
  }
 ],
 "metadata": {
  "kernelspec": {
   "display_name": "Java",
   "language": "java",
   "name": "java"
  },
  "language_info": {
   "codemirror_mode": "java",
   "file_extension": ".jshell",
   "mimetype": "text/x-java-source",
   "name": "Java",
   "pygments_lexer": "java",
   "version": "11.0.3+12-LTS"
  }
 },
 "nbformat": 4,
 "nbformat_minor": 2
}
