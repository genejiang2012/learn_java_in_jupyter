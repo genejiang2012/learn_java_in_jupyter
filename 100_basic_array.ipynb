{
 "cells": [
  {
   "cell_type": "code",
   "execution_count": 7,
   "metadata": {},
   "outputs": [
    {
     "data": {
      "text/plain": [
       "Hello world!"
      ]
     },
     "execution_count": 7,
     "metadata": {},
     "output_type": "execute_result"
    }
   ],
   "source": [
    "String helloWorld = \"Hello world!\";\n",
    "helloWorld;"
   ]
  },
  {
   "cell_type": "code",
   "execution_count": 10,
   "metadata": {},
   "outputs": [
    {
     "name": "stdout",
     "output_type": "stream",
     "text": [
      "Tom\n",
      "Jerry\n",
      "Jack\n",
      "Jeremy\n",
      "***************************\n",
      "Tom\n",
      "Jerry\n",
      "Jack\n",
      "Jeremy\n"
     ]
    }
   ],
   "source": [
    "String[] myArray = {\"Tom\", \"Jerry\", \"Jack\", \"Jeremy\"};\n",
    "\n",
    "for (int i=0; i < myArray.length; i++){\n",
    "    System.out.println(myArray[i]);\n",
    "}\n",
    "\n",
    "System.out.println(\"***************************\");\n",
    "\n",
    "for (String i : myArray) {\n",
    "    System.out.println(i);\n",
    "    System.out.println(i);\n",
    "}"
   ]
  },
  {
   "cell_type": "code",
   "execution_count": null,
   "metadata": {},
   "outputs": [],
   "source": []
  }
 ],
 "metadata": {
  "kernelspec": {
   "display_name": "Java",
   "language": "java",
   "name": "java"
  },
  "language_info": {
   "codemirror_mode": "java",
   "file_extension": ".jshell",
   "mimetype": "text/x-java-source",
   "name": "Java",
   "pygments_lexer": "java",
   "version": "11.0.3+12-LTS"
  }
 },
 "nbformat": 4,
 "nbformat_minor": 2
}
