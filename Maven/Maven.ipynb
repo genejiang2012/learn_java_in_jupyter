{
 "cells": [
  {
   "cell_type": "markdown",
   "metadata": {},
   "source": [
    "# Maven的step by step\n",
    "\n",
    "[TOC]\n",
    "\n",
    "## Maven环境配置\n",
    "\n",
    "### 系统要求\n",
    "\n",
    "|项目      | 要求                                                                                                  |\n",
    "|----------|-----------------------------------------------------------------------------------------------------------------|\n",
    "| JDK      | Maven 3\\.3 要求 JDK 1\\.7 或以上 <br> Maven 3\\.2 要求 JDK 1\\.6 或以上 <br> Maven 3\\.0/3\\.1 要求 JDK 1\\.5 或以上<br> |\n",
    "| 内存     | 没有最低要求                                                                                              |\n",
    "| 磁盘     | Maven 自身安装需要大约 10 MB 空间。<br> 除此之外，额外的磁盘空间将用于你的本地 Maven 仓库。<br>你本地仓库的大小取决于使用情况，但预期至少 500 M|        \n",
    "| 操作系统 | 没有最低要求                |\n",
    "\n",
    "### 检查Java安装"
   ]
  },
  {
   "cell_type": "code",
   "execution_count": 2,
   "metadata": {},
   "outputs": [
    {
     "ename": "EvalException",
     "evalue": "Undefined cell magic 'sh'",
     "output_type": "error",
     "traceback": [
      "\u001b[1m\u001b[31m---------------------------------------------------------------------------\u001b[0m",
      "\u001b[1m\u001b[31mio.github.spencerpark.jupyter.kernel.magic.registry.UndefinedMagicException: Undefined cell magic 'sh'\u001b[0m",
      "\u001b[1m\u001b[31m\tat io.github.spencerpark.jupyter.kernel.magic.registry.Magics.applyCellMagic(Magics.java:34)\u001b[0m",
      "\u001b[1m\u001b[31m\tat io.github.spencerpark.ijava.runtime.Magics.cellMagic(Magics.java:31)\u001b[0m",
      "\u001b[1m\u001b[31m\tat .(#13:1)\u001b[0m"
     ]
    }
   ],
   "source": [
    "%%sh\n",
    "jave -version"
   ]
  }
 ],
 "metadata": {
  "kernelspec": {
   "display_name": "Java",
   "language": "java",
   "name": "java"
  },
  "language_info": {
   "codemirror_mode": "java",
   "file_extension": ".jshell",
   "mimetype": "text/x-java-source",
   "name": "Java",
   "pygments_lexer": "java",
   "version": "11.0.3+12-LTS"
  }
 },
 "nbformat": 4,
 "nbformat_minor": 4
}
