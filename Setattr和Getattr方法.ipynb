{
 "cells": [
  {
   "cell_type": "markdown",
   "metadata": {},
   "source": [
    "# Setattr和Getattr方法"
   ]
  },
  {
   "cell_type": "code",
   "execution_count": 15,
   "metadata": {},
   "outputs": [
    {
     "ename": "UnresolvedReferenceException",
     "evalue": "Attempt to use definition snippet with unresolved references in Snippet:ClassKey(GetAndSetNameExample)#18-public class GetAndSetNameExample{\n    private String namne;\n    \n    public void setName(String name){\n        this.name = name;\n    }\n    \n    public String getName(){\n        return this.name;\n    }\n}",
     "output_type": "error",
     "traceback": [
      "\u001b[1m\u001b[30m|   \u001b[1m\u001b[30mpublic class GetAndSetNameExample{\u001b[0m",
      "\u001b[1m\u001b[30m|   \u001b[1m\u001b[30m    private String namne;\u001b[0m",
      "\u001b[1m\u001b[30m|   \u001b[1m\u001b[30m    \u001b[0m",
      "\u001b[1m\u001b[30m|   \u001b[1m\u001b[30m    public void setName(String name){\u001b[0m",
      "\u001b[1m\u001b[30m|   \u001b[1m\u001b[30m        this.name = name;\u001b[0m",
      "\u001b[1m\u001b[30m|   \u001b[1m\u001b[30m    }\u001b[0m",
      "\u001b[1m\u001b[30m|   \u001b[1m\u001b[30m    \u001b[0m",
      "\u001b[1m\u001b[30m|   \u001b[1m\u001b[30m    public String getName(){\u001b[0m",
      "\u001b[1m\u001b[30m|   \u001b[1m\u001b[30m        return this.name;\u001b[0m",
      "\u001b[1m\u001b[30m|   \u001b[1m\u001b[30m    }\u001b[0m",
      "\u001b[1m\u001b[30m|   \u001b[1m\u001b[30m}\u001b[0m",
      "\u001b[1m\u001b[31mUnresolved dependencies:\u001b[0m",
      "\u001b[1m\u001b[31m   - variable name\u001b[0m"
     ]
    }
   ],
   "source": [
    "public class GetAndSetNameExample{\n",
    "    private String namne;\n",
    "    \n",
    "    public void setName(String name){\n",
    "        this.name = name;\n",
    "    }\n",
    "    \n",
    "    public String getName(){\n",
    "        return this.name;\n",
    "    }\n",
    "}\n",
    "\n",
    "GetAndSetNameExample object = new GetAndSetNameExample();\n",
    "object.setName(\"Tom\");\n",
    "// String name = object.getName()；\n",
    "\n",
    "//  System.out.println(name);\n"
   ]
  }
 ],
 "metadata": {
  "kernelspec": {
   "display_name": "Java",
   "language": "java",
   "name": "java"
  },
  "language_info": {
   "codemirror_mode": "java",
   "file_extension": ".jshell",
   "mimetype": "text/x-java-source",
   "name": "Java",
   "pygments_lexer": "java",
   "version": "11.0.3+12-LTS"
  }
 },
 "nbformat": 4,
 "nbformat_minor": 2
}
