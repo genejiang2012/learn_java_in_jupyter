{
 "cells": [
  {
   "cell_type": "markdown",
   "metadata": {},
   "source": [
    "# java的基本概念\n",
    "\n",
    "[TOC]\n",
    "\n",
    "## 八种基本数据类型\n",
    "\n",
    "- 布尔型， boolean\n",
    "- 整型, byte, short, int, long\n",
    "- 浮点型, float, double\n",
    "- 字符型, Char"
   ]
  },
  {
   "cell_type": "code",
   "execution_count": 2,
   "metadata": {},
   "outputs": [
    {
     "name": "stdout",
     "output_type": "stream",
     "text": [
      "10\n",
      "10\n",
      "The bool istrue\n",
      "The char is a\n"
     ]
    }
   ],
   "source": [
    "int num =10;\n",
    "\n",
    "byte b = 10;\n",
    "System.out.print(b);\n",
    "short s = 10;\n",
    "System.out.print(\"\\n\" + s);\n",
    "int i = 10;\n",
    "long lon =10L;\n",
    "float f = 10.98F;\n",
    "double d = 10.123456D;\n",
    "char c= 'A';\n",
    "boolean bool = true;\n",
    "System.out.println(\"\\nThe bool is\"+ bool);\n",
    "\n",
    "char c = 97;\n",
    "System.out.println(\"The char is \" + c);\n",
    "\n"
   ]
  },
  {
   "cell_type": "code",
   "execution_count": null,
   "metadata": {},
   "outputs": [],
   "source": []
  }
 ],
 "metadata": {
  "kernelspec": {
   "display_name": "Java",
   "language": "java",
   "name": "java"
  },
  "language_info": {
   "codemirror_mode": "java",
   "file_extension": ".jshell",
   "mimetype": "text/x-java-source",
   "name": "Java",
   "pygments_lexer": "java",
   "version": "11.0.3+12-LTS"
  },
  "toc": {
   "base_numbering": 1,
   "nav_menu": {},
   "number_sections": false,
   "sideBar": true,
   "skip_h1_title": false,
   "title_cell": "Table of Contents",
   "title_sidebar": "Contents",
   "toc_cell": false,
   "toc_position": {},
   "toc_section_display": true,
   "toc_window_display": false
  },
  "varInspector": {
   "cols": {
    "lenName": 16,
    "lenType": 16,
    "lenVar": 40
   },
   "kernels_config": {
    "python": {
     "delete_cmd_postfix": "",
     "delete_cmd_prefix": "del ",
     "library": "var_list.py",
     "varRefreshCmd": "print(var_dic_list())"
    },
    "r": {
     "delete_cmd_postfix": ") ",
     "delete_cmd_prefix": "rm(",
     "library": "var_list.r",
     "varRefreshCmd": "cat(var_dic_list()) "
    }
   },
   "types_to_exclude": [
    "module",
    "function",
    "builtin_function_or_method",
    "instance",
    "_Feature"
   ],
   "window_display": false
  }
 },
 "nbformat": 4,
 "nbformat_minor": 4
}
