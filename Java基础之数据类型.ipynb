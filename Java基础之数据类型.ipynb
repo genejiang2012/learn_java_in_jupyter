{
 "cells": [
  {
   "cell_type": "markdown",
   "metadata": {
    "toc": true
   },
   "source": [
    "<h1>Table of Contents<span class=\"tocSkip\"></span></h1>\n",
    "<div class=\"toc\"><ul class=\"toc-item\"></ul></div>"
   ]
  },
  {
   "cell_type": "code",
   "execution_count": 3,
   "metadata": {},
   "outputs": [
    {
     "name": "stdout",
     "output_type": "stream",
     "text": [
      "Hello, World\n"
     ]
    }
   ],
   "source": [
    "System.out.println(\"Hello, World\")"
   ]
  },
  {
   "cell_type": "code",
   "execution_count": 4,
   "metadata": {},
   "outputs": [
    {
     "name": "stdout",
     "output_type": "stream",
     "text": [
      "Tom\n",
      "35\n",
      "null\n"
     ]
    }
   ],
   "source": [
    "class Person{\n",
    "    private String name;\n",
    "    private int age;\n",
    "    \n",
    "    public void setAge(int age){\n",
    "        this.age = age;\n",
    "    }\n",
    "    \n",
    "    public void setName(String name){\n",
    "        this.name = name;\n",
    "    }\n",
    "    \n",
    "    public void showName(){\n",
    "        System.out.println(this.name);\n",
    "    }\n",
    "    \n",
    "    public void showAge(){\n",
    "        System.out.println(this.age);\n",
    "    }\n",
    "}\n",
    "\n",
    "Person p = new Person();\n",
    "p.setName(\"Tom\");\n",
    "p.setAge(35);\n",
    "p.showName();\n",
    "p.showAge();\n",
    "\n",
    "new Person().showName();"
   ]
  },
  {
   "cell_type": "code",
   "execution_count": 1,
   "metadata": {},
   "outputs": [
    {
     "name": "stdout",
     "output_type": "stream",
     "text": [
      "The name is Jerry\n",
      "尽心尽力地工作\n"
     ]
    }
   ],
   "source": [
    "class Employee{\n",
    "    String name; // 定义name属性\n",
    "    \n",
    "    public void work() {\n",
    "        System.out.println(\"尽心尽力地工作\");\n",
    "    }\n",
    "}\n",
    "\n",
    "class Teacher extends Employee{\n",
    "    public void printName(){\n",
    "        System.out.println(\"The name is \" + name);\n",
    "    }\n",
    "}\n",
    "\n",
    "Teacher t = new Teacher();\n",
    "t.name = \"Jerry\";\n",
    "t.printName();\n",
    "t.work();\n"
   ]
  },
  {
   "cell_type": "code",
   "execution_count": null,
   "metadata": {},
   "outputs": [],
   "source": []
  }
 ],
 "metadata": {
  "kernelspec": {
   "display_name": "Java",
   "language": "java",
   "name": "java"
  },
  "language_info": {
   "codemirror_mode": "java",
   "file_extension": ".jshell",
   "mimetype": "text/x-java-source",
   "name": "Java",
   "pygments_lexer": "java",
   "version": "11.0.3+12-LTS"
  },
  "toc": {
   "base_numbering": 1,
   "nav_menu": {},
   "number_sections": false,
   "sideBar": true,
   "skip_h1_title": false,
   "title_cell": "Table of Contents",
   "title_sidebar": "Contents",
   "toc_cell": true,
   "toc_position": {},
   "toc_section_display": true,
   "toc_window_display": false
  },
  "varInspector": {
   "cols": {
    "lenName": 16,
    "lenType": 16,
    "lenVar": 40
   },
   "kernels_config": {
    "python": {
     "delete_cmd_postfix": "",
     "delete_cmd_prefix": "del ",
     "library": "var_list.py",
     "varRefreshCmd": "print(var_dic_list())"
    },
    "r": {
     "delete_cmd_postfix": ") ",
     "delete_cmd_prefix": "rm(",
     "library": "var_list.r",
     "varRefreshCmd": "cat(var_dic_list()) "
    }
   },
   "types_to_exclude": [
    "module",
    "function",
    "builtin_function_or_method",
    "instance",
    "_Feature"
   ],
   "window_display": false
  }
 },
 "nbformat": 4,
 "nbformat_minor": 2
}
