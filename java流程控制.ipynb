{
 "cells": [
  {
   "cell_type": "markdown",
   "metadata": {},
   "source": [
    "## 输入输出\n",
    "\n",
    "### 输出\n",
    "\n",
    "总是使用System.out.println()来向屏幕输出一些内容， println是print line的缩写，表示输出并换行。因此，如果输出后不想换行，可以用print()。\n",
    "\n",
    "```\n",
    "println\n",
    "printf\n",
    "print\n",
    "```\n",
    "\n",
    "### 格式化输出\n",
    "Java还提供了格式化输出的功能。为什么要格式化输出？因为计算机表示的数据不一定适合人来阅读：\n",
    "\n",
    "1. Java的格式化功能提供了多种占位符，可以把各种数据类型“格式化”成指定的字符串：\n",
    "占位符|说明\n",
    "-----|----\n",
    "%d\t|格式化输出整数\n",
    "%x\t|格式化输出十六进制整数\n",
    "%f\t|格式化输出浮点数\n",
    "%e\t|格式化输出科学计数法表示的浮点数\n",
    "%s\t|格式化字符串\n",
    "\n",
    "2. printf()可以把后面的参数格式化成指定格式"
   ]
  },
  {
   "cell_type": "code",
   "execution_count": 25,
   "metadata": {},
   "outputs": [
    {
     "name": "stdout",
     "output_type": "stream",
     "text": [
      "3.14"
     ]
    },
    {
     "data": {
      "text/plain": [
       "java.io.PrintStream@28d2baae"
      ]
     },
     "execution_count": 25,
     "metadata": {},
     "output_type": "execute_result"
    }
   ],
   "source": [
    "double d = 3.1415926;\n",
    "System.out.printf(\"%.2f\", d);"
   ]
  },
  {
   "cell_type": "markdown",
   "metadata": {},
   "source": [
    "### 输入\n",
    "\n",
    "输出非常简单， 但是输入比较复杂。 最常用的```System.in```, 但是标准输入流比较复杂， 需要使用新的比较简单的输入```Scanner```。 \n",
    "\n",
    "\n"
   ]
  },
  {
   "cell_type": "markdown",
   "metadata": {},
   "source": [
    "example01： 从控制台读取一个字符串和一个整数的例子"
   ]
  },
  {
   "cell_type": "code",
   "execution_count": 4,
   "metadata": {},
   "outputs": [
    {
     "name": "stdout",
     "output_type": "stream",
     "text": [
      "Please input your name\n",
      "sohu\n",
      "Please input your age\n",
      "22\n",
      "Hi, sohu's age is 22"
     ]
    },
    {
     "data": {
      "text/plain": [
       "java.io.PrintStream@28d2baae"
      ]
     },
     "execution_count": 4,
     "metadata": {},
     "output_type": "execute_result"
    }
   ],
   "source": [
    "import java.util.Scanner;\n",
    "\n",
    "Scanner sc = new Scanner(System.in);\n",
    "System.out.println(\"Please input your name\");\n",
    "String name = sc.nextLine();\n",
    "System.out.println(\"Please input your age\");\n",
    "int age = sc.nextInt();\n",
    "System.out.printf(\"Hi, %s's age is %d\", name, age)\n",
    "\n"
   ]
  },
  {
   "cell_type": "markdown",
   "metadata": {},
   "source": [
    "example02: 请帮小明同学设计一个程序，输入上次考试成绩（int）和本次考试成绩（int），然后输出成绩提高的百分比，保留两位小数位（例如，21.75%）"
   ]
  },
  {
   "cell_type": "code",
   "execution_count": 23,
   "metadata": {},
   "outputs": [
    {
     "name": "stdout",
     "output_type": "stream",
     "text": [
      "please input the last score:\n",
      "90\n",
      "please input the latest score:\n",
      "100\n",
      "The increasement for the score is 11.11% \n"
     ]
    },
    {
     "data": {
      "text/plain": [
       "java.io.PrintStream@28d2baae"
      ]
     },
     "execution_count": 23,
     "metadata": {},
     "output_type": "execute_result"
    }
   ],
   "source": [
    "import java.util.Scanner;\n",
    "\n",
    "Scanner sc = new Scanner(System.in);\n",
    "System.out.println(\"please input the last score:\");\n",
    "float lastScore = sc.nextFloat();\n",
    "System.out.println(\"please input the latest score:\");\n",
    "float newScore = sc.nextFloat();\n",
    "float increasement = (newScore/lastScore-1)*100;\n",
    "System.out.printf(\"The increasement for the score is %.2f%% \\n\", increasement);"
   ]
  }
 ],
 "metadata": {
  "kernelspec": {
   "display_name": "Java",
   "language": "java",
   "name": "java"
  },
  "language_info": {
   "codemirror_mode": "java",
   "file_extension": ".jshell",
   "mimetype": "text/x-java-source",
   "name": "Java",
   "pygments_lexer": "java",
   "version": "11.0.3+12-LTS"
  }
 },
 "nbformat": 4,
 "nbformat_minor": 2
}
