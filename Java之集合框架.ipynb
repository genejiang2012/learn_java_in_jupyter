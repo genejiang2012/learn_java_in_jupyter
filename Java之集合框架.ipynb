{
 "cells": [
  {
   "cell_type": "markdown",
   "metadata": {},
   "source": [
    "# Java之集合框架\n",
    "\n",
    "## 简介\n",
    "集合，集合是java中提供的一种容器，可以用来存储多个数据。\n",
    "数据多了，可以使用数组存放或者使用ArrayList集合进行存放数据。那么，集合和数组既然都是容器，它们有啥区别呢？\n",
    "\n",
    "- 数组的长度是固定的。集合的长度是可变的。\n",
    "- 集合中存储的元素必须是引用类型数据\n"
   ]
  },
  {
   "cell_type": "code",
   "execution_count": 2,
   "metadata": {},
   "outputs": [
    {
     "name": "stdout",
     "output_type": "stream",
     "text": [
      "111\n",
      "222\n",
      "333\n",
      "444\n",
      "555\n"
     ]
    }
   ],
   "source": [
    "ArrayList<Integer> list = new ArrayList<Integer>();\n",
    "list.add(111);\n",
    "list.add(222);\n",
    "list.add(333);\n",
    "list.add(444);\n",
    "list.add(555);\n",
    "\n",
    "for(int i=0; i<list.size(); i++){\n",
    "    System.out.println(list.get(i));\n",
    "}"
   ]
  },
  {
   "cell_type": "code",
   "execution_count": 8,
   "metadata": {},
   "outputs": [
    {
     "name": "stdout",
     "output_type": "stream",
     "text": [
      "Tom\n",
      "Jack\n",
      "Jerry\n"
     ]
    }
   ],
   "source": [
    "ArrayList<String> strList = new ArrayList<String>();\n",
    "strList.add(\"Tom\");\n",
    "strList.add(\"Jack\");\n",
    "strList.add(\"Jerry\");\n",
    "\n",
    "for(int i=0; i<strList.size(); i++){\n",
    "    System.out.println(strList.get(i));\n",
    "}"
   ]
  },
  {
   "cell_type": "code",
   "execution_count": null,
   "metadata": {},
   "outputs": [],
   "source": []
  }
 ],
 "metadata": {
  "kernelspec": {
   "display_name": "Java",
   "language": "java",
   "name": "java"
  },
  "language_info": {
   "codemirror_mode": "java",
   "file_extension": ".jshell",
   "mimetype": "text/x-java-source",
   "name": "Java",
   "pygments_lexer": "java",
   "version": "11.0.3+12-LTS"
  }
 },
 "nbformat": 4,
 "nbformat_minor": 2
}
