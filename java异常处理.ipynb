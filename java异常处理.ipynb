{
 "cells": [
  {
   "cell_type": "code",
   "execution_count": 2,
   "metadata": {},
   "outputs": [
    {
     "ename": "EvalException",
     "evalue": "null",
     "output_type": "error",
     "traceback": [
      "\u001b[1m\u001b[31m---------------------------------------------------------------------------\u001b[0m",
      "\u001b[1m\u001b[31mjava.lang.NullPointerException: null\u001b[0m",
      "\u001b[1m\u001b[31m\tat .(#13:1)\u001b[0m"
     ]
    }
   ],
   "source": [
    "String s = null;\n",
    "s.indexOf(\"a\");\n",
    "System.out.println(\"end\");"
   ]
  },
  {
   "cell_type": "code",
   "execution_count": 11,
   "metadata": {},
   "outputs": [
    {
     "name": "stdout",
     "output_type": "stream",
     "text": [
      "java.lang.ArithmeticException: / by zero\n"
     ]
    }
   ],
   "source": [
    "    int a = 20;\n",
    "    int b = 0; \n",
    "    int[] arr = {0, 1, 2};\n",
    "\n",
    "    try {\n",
    "        System.out.println(a/b);\n",
    "        System.out.println(arr[3]);\n",
    "    } catch(ArithmeticException | ArrayIndexOutOfBoundsException e){\n",
    "        System.out.println(e);\n",
    "    }"
   ]
  },
  {
   "cell_type": "code",
   "execution_count": null,
   "metadata": {},
   "outputs": [],
   "source": [
    "System.out.println(getInt())\n",
    "    \n",
    "public static int getInt(){\n",
    "    int a = 30;\n",
    "    \n",
    "    try\n",
    "    \n",
    "}"
   ]
  },
  {
   "cell_type": "code",
   "execution_count": null,
   "metadata": {},
   "outputs": [],
   "source": []
  }
 ],
 "metadata": {
  "kernelspec": {
   "display_name": "Java",
   "language": "java",
   "name": "java"
  },
  "language_info": {
   "codemirror_mode": "java",
   "file_extension": ".jshell",
   "mimetype": "text/x-java-source",
   "name": "Java",
   "pygments_lexer": "java",
   "version": "11.0.3+12-LTS"
  }
 },
 "nbformat": 4,
 "nbformat_minor": 4
}
