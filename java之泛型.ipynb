{
 "cells": [
  {
   "cell_type": "markdown",
   "metadata": {},
   "source": [
    "# Java之泛型"
   ]
  },
  {
   "cell_type": "code",
   "execution_count": 8,
   "metadata": {},
   "outputs": [
    {
     "name": "stdout",
     "output_type": "stream",
     "text": [
      "name\n",
      "Tim\n"
     ]
    }
   ],
   "source": [
    "public class Pair<T>{\n",
    "    T first;\n",
    "    T second;\n",
    "    \n",
    "    public Pair(T first, T second){\n",
    "        this.first = first;\n",
    "        this.second = second;\n",
    "    }\n",
    "    \n",
    "    public T getFirst(){\n",
    "        return first;\n",
    "    }\n",
    "    \n",
    "    public T getSecond(){\n",
    "        return second;\n",
    "    }      \n",
    "}\n",
    "\n",
    "Pair<Integer> minMaxVal = new Pair<Integer>(1, 100);\n",
    "    \n",
    "Integer minVal = minMaxVal.getFirst();\n",
    "Integer maxVal = minMaxVal.getSecond();\n",
    "\n",
    "Pair<String> kv = new Pair<String>(\"name\",\"Tim\");\n",
    "String key = kv.getFirst();\n",
    "System.out.println(key);\n",
    "System.out.println(kv.getSecond())"
   ]
  },
  {
   "cell_type": "code",
   "execution_count": null,
   "metadata": {},
   "outputs": [],
   "source": []
  }
 ],
 "metadata": {
  "kernelspec": {
   "display_name": "Java",
   "language": "java",
   "name": "java"
  },
  "language_info": {
   "codemirror_mode": "java",
   "file_extension": ".jshell",
   "mimetype": "text/x-java-source",
   "name": "Java",
   "pygments_lexer": "java",
   "version": "11.0.3+12-LTS"
  }
 },
 "nbformat": 4,
 "nbformat_minor": 4
}
