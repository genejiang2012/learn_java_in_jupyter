{
 "cells": [
  {
   "cell_type": "markdown",
   "metadata": {},
   "source": [
    "# LeetCode算法练习-Java\n",
    "\n",
    "[TOC]"
   ]
  },
  {
   "cell_type": "markdown",
   "metadata": {},
   "source": [
    "## 数组\n",
    "\n",
    "### 1. 删除排序数组中的重复项\n",
    "\n",
    "#####  问题\n",
    "给定一个排序数组，你需要在原地删除重复出现的元素，使得每个元素只出现一次，返回移除后数组的新长度。\n",
    "不要使用额外的数组空间，你必须在原地修改输入数组并在使用 O(1) 额外空间的条件下完成。\n",
    "\n",
    "示例 1:\n",
    "给定数组 nums = [1,1,2], \n",
    "函数应该返回新的长度 2, 并且原数组 nums 的前两个元素被修改为 1, 2。 \n",
    "你不需要考虑数组中超出新长度后面的元素。\n",
    "示例 2:\n",
    "\n",
    "给定 nums = [0,0,1,1,1,2,2,3,3,4],\n",
    "函数应该返回新的长度 5, 并且原数组 nums 的前五个元素被修改为 0, 1, 2, 3, 4。\n",
    "你不需要考虑数组中超出新长度后面的元素。\n",
    "\n",
    "#### 解决方案\n",
    "\n",
    "官方解法：\n",
    "方法：双指针法\n",
    "数组完成排序后，我们可以放置两个指针 i 和 j，其中 i 是慢指针，而 j 是快指针。只要 nums[i]=nums[j]，我们就增加 j 以跳过重复项。\n",
    "当我们遇到 nums[j]≠nums[i] 时，跳过重复项的运行已经结束，因此我们必须把它（nums[j]）的值复制到 nums[i + 1]。然后递增 i，接着我们将再次重复相同的过程，直到 j 到达数组的末尾为止。"
   ]
  },
  {
   "cell_type": "code",
   "execution_count": 13,
   "metadata": {},
   "outputs": [
    {
     "name": "stdout",
     "output_type": "stream",
     "text": [
      "5\n",
      "0\n",
      "1\n",
      "2\n",
      "3\n",
      "4\n",
      "2\n",
      "2\n",
      "3\n",
      "3\n",
      "4\n"
     ]
    }
   ],
   "source": [
    "public int removeDuplicates(int[] nums){\n",
    "    if (nums.length == 0) return 0;\n",
    "    \n",
    "    int i = 0;\n",
    "    for (int j = 0; j < nums.length; j++){\n",
    "        if(nums[j] != nums[i]){\n",
    "            i++;\n",
    "            nums[i] = nums[j];\n",
    "        }           \n",
    "    }\n",
    "    return i+1;\n",
    "}\n",
    "\n",
    "int[] nums = {0,0,1,1,1,2,2,3,3,4};\n",
    "System.out.println(removeDuplicates(nums));\n",
    "\n",
    "for (int i = 0; i < nums.length; i++){\n",
    "    System.out.println(nums[i]);\n",
    "}"
   ]
  },
  {
   "cell_type": "code",
   "execution_count": null,
   "metadata": {},
   "outputs": [],
   "source": []
  }
 ],
 "metadata": {
  "kernelspec": {
   "display_name": "Java",
   "language": "java",
   "name": "java"
  },
  "language_info": {
   "codemirror_mode": "java",
   "file_extension": ".jshell",
   "mimetype": "text/x-java-source",
   "name": "Java",
   "pygments_lexer": "java",
   "version": "11.0.3+12-LTS"
  }
 },
 "nbformat": 4,
 "nbformat_minor": 2
}
