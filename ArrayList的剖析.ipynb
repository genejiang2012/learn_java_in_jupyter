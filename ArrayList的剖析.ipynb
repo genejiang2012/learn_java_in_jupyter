{
 "cells": [
  {
   "cell_type": "markdown",
   "metadata": {},
   "source": [
    "# ArrayList的剖析\n",
    "\n",
    "## 基本用法\n",
    "\n",
    "ArrayList是一个泛型容器。"
   ]
  },
  {
   "cell_type": "code",
   "execution_count": null,
   "metadata": {},
   "outputs": [],
   "source": [
    "ArrayList<Integer> intList = new ArrayList<Integer>()\n",
    "ArrayList<String> strList = new ArrayList<String>()"
   ]
  },
  {
   "cell_type": "code",
   "execution_count": null,
   "metadata": {},
   "outputs": [],
   "source": [
    "public boolean add（E e） //添加元素到末尾\n",
    "public boolean isEmpty（） //判断是否为空\n",
    "public int size（） //获取长度\n",
    "public E get （int index） //访问指定位置的元素\n",
    "public int index0f（Object o） //查找元素，如果找到， 返回索引位置，否则返回-1\n",
    "public int lastIndexOf （0bject o） //从后往前找\n",
    "public boolean contains （Object o） //是否包含指定元素，依据是equals方法的返回值\n",
    "public E remove（int index） //删除指定位置的元素，返回值为被删对象\n",
    "//删除指定对象，只删除第一个相同的对象，返回值表示是否删除了元素\n",
    "//如果o为null，则删除值为nul1的元素\n",
    "public boolean remove （Object o）\n",
    "public void clear（） //删除所有元素\n",
    "//在指定位置插入元素，index为0表示插入最前面，index 为ArrayList的长度表示插到最后面\n",
    "public void add（int index， E element）\n",
    "public E set（int index， E element） //修改指定位置的元素内容"
   ]
  },
  {
   "cell_type": "code",
   "execution_count": 4,
   "metadata": {},
   "outputs": [
    {
     "name": "stdout",
     "output_type": "stream",
     "text": [
      "Tom\n",
      "Bob\n"
     ]
    }
   ],
   "source": [
    "ArrayList<String> strList = new ArrayList<String>();\n",
    "strList.add(\"Tom\");\n",
    "strList.add(\"Bob\");\n",
    "\n",
    "for(int i=0; i<strList.size(); i++){\n",
    "    System.out.println(strList.get(i));\n",
    "}"
   ]
  },
  {
   "cell_type": "markdown",
   "metadata": {},
   "source": [
    "## 基本原理\n",
    "\n",
    "Array-List的基本原理与我们在上一章介绍的DynaArray类似，内部有一个数组elementData，一般会有一些预留的空间，有一个整数size记录实际的元素个数（基于Java 7），如下所示："
   ]
  },
  {
   "cell_type": "code",
   "execution_count": null,
   "metadata": {},
   "outputs": [],
   "source": [
    "private transient Object[] elementData;\n",
    "private int size;"
   ]
  }
 ],
 "metadata": {
  "kernelspec": {
   "display_name": "Java",
   "language": "java",
   "name": "java"
  },
  "language_info": {
   "codemirror_mode": "java",
   "file_extension": ".jshell",
   "mimetype": "text/x-java-source",
   "name": "Java",
   "pygments_lexer": "java",
   "version": "11.0.3+12-LTS"
  }
 },
 "nbformat": 4,
 "nbformat_minor": 4
}
